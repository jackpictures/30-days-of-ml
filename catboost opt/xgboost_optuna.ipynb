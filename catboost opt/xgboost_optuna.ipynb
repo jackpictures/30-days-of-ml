{
 "cells": [
  {
   "cell_type": "code",
   "execution_count": 1,
   "source": [
    "\r\n",
    "\r\n",
    "import pandas as pd\r\n",
    "import numpy as np\r\n",
    "from sklearn import preprocessing\r\n",
    "from sklearn.metrics import mean_squared_error\r\n",
    "from xgboost import XGBRegressor\r\n",
    "import optuna\r\n",
    "\r\n"
   ],
   "outputs": [],
   "metadata": {}
  },
  {
   "cell_type": "code",
   "execution_count": 2,
   "source": [
    "df = pd.read_csv(r'C:\\Users\\Professional\\Desktop\\Kaggle competitions\\30-days-of-ml\\data\\train_folds.csv')\r\n",
    "df_test = pd.read_csv(r'C:\\Users\\Professional\\Desktop\\Kaggle competitions\\30-days-of-ml\\data\\test.csv')\r\n",
    "sample_submission = pd.read_csv(r'C:\\Users\\Professional\\Desktop\\Kaggle competitions\\30-days-of-ml\\data\\sample_submission.csv')\r\n",
    "\r\n",
    "useful_features = [c for c in df.columns if c not in (\"id\", \"target\", \"kfold\")]\r\n",
    "object_cols = [col for col in useful_features if col.startswith(\"cat\")]\r\n",
    "df_test = df_test[useful_features]\r\n",
    "\r\n",
    "for col in object_cols:\r\n",
    "    temp_df = []\r\n",
    "    temp_test_feat = None\r\n",
    "    for fold in range(5):\r\n",
    "        xtrain =  df[df.kfold != fold].reset_index(drop=True)\r\n",
    "        xvalid = df[df.kfold == fold].reset_index(drop=True)\r\n",
    "        feat = xtrain.groupby(col)[\"target\"].agg(\"mean\")\r\n",
    "        feat = feat.to_dict()\r\n",
    "        xvalid.loc[:, f\"tar_enc_{col}\"] = xvalid[col].map(feat)\r\n",
    "        temp_df.append(xvalid)\r\n",
    "        if temp_test_feat is None:\r\n",
    "            temp_test_feat = df_test[col].map(feat)\r\n",
    "        else:\r\n",
    "            temp_test_feat += df_test[col].map(feat)\r\n",
    "    \r\n",
    "    temp_test_feat /= 5\r\n",
    "    df_test.loc[:, f\"tar_enc_{col}\"] = temp_test_feat\r\n",
    "    df = pd.concat(temp_df)\r\n",
    "    \r\n",
    "\r\n",
    "useful_features = [c for c in df.columns if c not in (\"id\", \"target\", \"kfold\")]\r\n",
    "object_cols = [col for col in useful_features if col.startswith(\"cat\")]\r\n",
    "df_test = df_test[useful_features]"
   ],
   "outputs": [],
   "metadata": {}
  },
  {
   "cell_type": "code",
   "execution_count": 25,
   "source": [
    "def run(trial):\r\n",
    "    fold = 0\r\n",
    "    learning_rate = trial.suggest_float(\"learning_rate\", 1e-2, 0.25, log=True)\r\n",
    "    reg_lambda = trial.suggest_loguniform(\"reg_lambda\",1e-8, 100.0)\r\n",
    "    reg_alpha = trial.suggest_loguniform(\"reg_alpha\", 1e-8, 100.0)\r\n",
    "    subsample = trial.suggest_float(\"subsample\", 0.1, 1.0)\r\n",
    "    colsample_bytree = trial.suggest_float(\"colsample_bytree\", 0.1, 1.0)\r\n",
    "    max_depth = trial.suggest_int(\"max_depth\", 1, 8)\r\n",
    "\r\n",
    "    xtrain = df[df.kfold != fold].reset_index(drop=True)\r\n",
    "    xvalid = df[df.kfold == fold].reset_index(drop=True)\r\n",
    "\r\n",
    "    ytrain = xtrain.target\r\n",
    "    yvalid = xvalid.target\r\n",
    "\r\n",
    "    xtrain = xtrain[useful_features]\r\n",
    "    xvalid = xvalid[useful_features]\r\n",
    "\r\n",
    "    ordinal_encoder = preprocessing.OrdinalEncoder()\r\n",
    "    xtrain[object_cols] = ordinal_encoder.fit_transform(xtrain[object_cols])\r\n",
    "    xvalid[object_cols] = ordinal_encoder.transform(xvalid[object_cols])\r\n",
    "\r\n",
    "    model = XGBRegressor(\r\n",
    "        random_state=42,\r\n",
    "        n_estimators=6000,\r\n",
    "        learning_rate=learning_rate,\r\n",
    "        reg_lambda=reg_lambda,\r\n",
    "        reg_alpha=reg_alpha,\r\n",
    "        subsample=subsample,\r\n",
    "        colsample_bytree=colsample_bytree,\r\n",
    "        max_depth=max_depth,\r\n",
    "        n_jobs = 6\r\n",
    "    )\r\n",
    "    model.fit(xtrain, ytrain, early_stopping_rounds=300, eval_set=[(xvalid, yvalid)], verbose=1000)\r\n",
    "    preds_valid = model.predict(xvalid)\r\n",
    "    rmse = mean_squared_error(yvalid, preds_valid, squared=False)\r\n",
    "    return rmse"
   ],
   "outputs": [],
   "metadata": {}
  },
  {
   "cell_type": "code",
   "execution_count": 26,
   "source": [
    "study = optuna.create_study(direction=\"minimize\")\r\n",
    "study.optimize(run, n_trials=8)"
   ],
   "outputs": [
    {
     "output_type": "stream",
     "name": "stderr",
     "text": [
      "\u001b[32m[I 2021-08-24 07:45:53,154]\u001b[0m A new study created in memory with name: no-name-f1f3dfa2-0cf4-48b2-b507-585f241c15ea\u001b[0m\n"
     ]
    },
    {
     "output_type": "stream",
     "name": "stdout",
     "text": [
      "[0]\tvalidation_0-rmse:6.50685\n",
      "[479]\tvalidation_0-rmse:0.72288\n"
     ]
    },
    {
     "output_type": "stream",
     "name": "stderr",
     "text": [
      "\u001b[32m[I 2021-08-24 07:47:00,070]\u001b[0m Trial 0 finished with value: 0.7210591242526004 and parameters: {'learning_rate': 0.1653269327255586, 'reg_lambda': 8.353280532307176, 'reg_alpha': 0.0001447811909275867, 'subsample': 0.9061099267930357, 'colsample_bytree': 0.4765556457257669, 'max_depth': 7}. Best is trial 0 with value: 0.7210591242526004.\u001b[0m\n"
     ]
    },
    {
     "output_type": "stream",
     "name": "stdout",
     "text": [
      "[0]\tvalidation_0-rmse:7.23118\n",
      "[1000]\tvalidation_0-rmse:0.71977\n",
      "[2000]\tvalidation_0-rmse:0.71857\n",
      "[2325]\tvalidation_0-rmse:0.71865\n"
     ]
    },
    {
     "output_type": "stream",
     "name": "stderr",
     "text": [
      "\u001b[32m[I 2021-08-24 07:48:55,647]\u001b[0m Trial 1 finished with value: 0.718552617982699 and parameters: {'learning_rate': 0.0712313421486503, 'reg_lambda': 6.777973493371879, 'reg_alpha': 0.870457671903124, 'subsample': 0.28994786387244836, 'colsample_bytree': 0.5948540994947439, 'max_depth': 3}. Best is trial 1 with value: 0.718552617982699.\u001b[0m\n"
     ]
    },
    {
     "output_type": "stream",
     "name": "stdout",
     "text": [
      "[0]\tvalidation_0-rmse:7.65189\n",
      "[1000]\tvalidation_0-rmse:0.73671\n",
      "[2000]\tvalidation_0-rmse:0.73340\n",
      "[3000]\tvalidation_0-rmse:0.73172\n",
      "[4000]\tvalidation_0-rmse:0.73073\n",
      "[5000]\tvalidation_0-rmse:0.72996\n",
      "[5999]\tvalidation_0-rmse:0.72931\n"
     ]
    },
    {
     "output_type": "stream",
     "name": "stderr",
     "text": [
      "\u001b[32m[I 2021-08-24 07:51:06,124]\u001b[0m Trial 2 finished with value: 0.7293099112558643 and parameters: {'learning_rate': 0.01661210345451068, 'reg_lambda': 17.680408959189815, 'reg_alpha': 4.6067136102608774e-07, 'subsample': 0.363266541485849, 'colsample_bytree': 0.11764261052511464, 'max_depth': 1}. Best is trial 1 with value: 0.718552617982699.\u001b[0m\n"
     ]
    },
    {
     "output_type": "stream",
     "name": "stdout",
     "text": [
      "[0]\tvalidation_0-rmse:7.62018\n",
      "[1000]\tvalidation_0-rmse:0.72410\n",
      "[2000]\tvalidation_0-rmse:0.72040\n",
      "[3000]\tvalidation_0-rmse:0.71903\n",
      "[4000]\tvalidation_0-rmse:0.71833\n",
      "[5000]\tvalidation_0-rmse:0.71799\n",
      "[5999]\tvalidation_0-rmse:0.71780\n"
     ]
    },
    {
     "output_type": "stream",
     "name": "stderr",
     "text": [
      "\u001b[32m[I 2021-08-24 07:56:05,980]\u001b[0m Trial 3 finished with value: 0.7177815537119963 and parameters: {'learning_rate': 0.020724578804648803, 'reg_lambda': 6.794234536729048e-05, 'reg_alpha': 39.3317897605401, 'subsample': 0.2817675275106523, 'colsample_bytree': 0.4572411228170934, 'max_depth': 4}. Best is trial 3 with value: 0.7177815537119963.\u001b[0m\n"
     ]
    },
    {
     "output_type": "stream",
     "name": "stdout",
     "text": [
      "[0]\tvalidation_0-rmse:7.60746\n",
      "[1000]\tvalidation_0-rmse:0.72446\n",
      "[2000]\tvalidation_0-rmse:0.72097\n",
      "[3000]\tvalidation_0-rmse:0.71944\n",
      "[4000]\tvalidation_0-rmse:0.71894\n",
      "[5000]\tvalidation_0-rmse:0.71856\n",
      "[5999]\tvalidation_0-rmse:0.71827\n"
     ]
    },
    {
     "output_type": "stream",
     "name": "stderr",
     "text": [
      "\u001b[32m[I 2021-08-24 08:00:13,604]\u001b[0m Trial 4 finished with value: 0.7182369209881364 and parameters: {'learning_rate': 0.022370036248167958, 'reg_lambda': 3.000622744499094e-07, 'reg_alpha': 7.1734812537127794, 'subsample': 0.1648841114679282, 'colsample_bytree': 0.7788245091401795, 'max_depth': 3}. Best is trial 3 with value: 0.7177815537119963.\u001b[0m\n"
     ]
    },
    {
     "output_type": "stream",
     "name": "stdout",
     "text": [
      "[0]\tvalidation_0-rmse:7.45829\n",
      "[1000]\tvalidation_0-rmse:0.72303\n",
      "[1067]\tvalidation_0-rmse:0.72320\n"
     ]
    },
    {
     "output_type": "stream",
     "name": "stderr",
     "text": [
      "\u001b[32m[I 2021-08-24 08:01:10,472]\u001b[0m Trial 5 finished with value: 0.722648855123444 and parameters: {'learning_rate': 0.041727750091254776, 'reg_lambda': 5.370949892237831e-06, 'reg_alpha': 0.002375450970327109, 'subsample': 0.18974639798865434, 'colsample_bytree': 0.1805406125178555, 'max_depth': 7}. Best is trial 3 with value: 0.7177815537119963.\u001b[0m\n"
     ]
    },
    {
     "output_type": "stream",
     "name": "stdout",
     "text": [
      "[0]\tvalidation_0-rmse:7.44269\n",
      "[709]\tvalidation_0-rmse:0.72521\n"
     ]
    },
    {
     "output_type": "stream",
     "name": "stderr",
     "text": [
      "\u001b[32m[I 2021-08-24 08:02:40,814]\u001b[0m Trial 6 finished with value: 0.724191940303906 and parameters: {'learning_rate': 0.04375325539857733, 'reg_lambda': 1.4505483326737958e-07, 'reg_alpha': 1.7195101541425414e-08, 'subsample': 0.2713495636177378, 'colsample_bytree': 0.7580441840859904, 'max_depth': 8}. Best is trial 3 with value: 0.7177815537119963.\u001b[0m\n"
     ]
    },
    {
     "output_type": "stream",
     "name": "stdout",
     "text": [
      "[0]\tvalidation_0-rmse:7.67920\n",
      "[1000]\tvalidation_0-rmse:0.73164\n",
      "[2000]\tvalidation_0-rmse:0.72804\n",
      "[3000]\tvalidation_0-rmse:0.72579\n",
      "[4000]\tvalidation_0-rmse:0.72417\n",
      "[5000]\tvalidation_0-rmse:0.72293\n",
      "[5999]\tvalidation_0-rmse:0.72192\n"
     ]
    },
    {
     "output_type": "stream",
     "name": "stderr",
     "text": [
      "\u001b[32m[I 2021-08-24 08:06:56,329]\u001b[0m Trial 7 finished with value: 0.7219235382948443 and parameters: {'learning_rate': 0.013056958342082241, 'reg_lambda': 5.572751376423066e-05, 'reg_alpha': 7.359808315206786e-08, 'subsample': 0.6129431526147202, 'colsample_bytree': 0.5052920743525672, 'max_depth': 2}. Best is trial 3 with value: 0.7177815537119963.\u001b[0m\n"
     ]
    }
   ],
   "metadata": {}
  },
  {
   "cell_type": "code",
   "execution_count": 27,
   "source": [
    "\r\n",
    "\r\n",
    "study.best_params\r\n",
    "\r\n"
   ],
   "outputs": [
    {
     "output_type": "execute_result",
     "data": {
      "text/plain": [
       "{'learning_rate': 0.020724578804648803,\n",
       " 'reg_lambda': 6.794234536729048e-05,\n",
       " 'reg_alpha': 39.3317897605401,\n",
       " 'subsample': 0.2817675275106523,\n",
       " 'colsample_bytree': 0.4572411228170934,\n",
       " 'max_depth': 4}"
      ]
     },
     "metadata": {},
     "execution_count": 27
    }
   ],
   "metadata": {}
  },
  {
   "cell_type": "code",
   "execution_count": 32,
   "source": [
    "import pandas as pd\r\n",
    "import numpy as np\r\n",
    "from sklearn import preprocessing\r\n",
    "from sklearn.model_selection import train_test_split\r\n",
    "from sklearn.ensemble import RandomForestRegressor\r\n",
    "from sklearn.metrics import mean_squared_error\r\n",
    "from xgboost import XGBRegressor"
   ],
   "outputs": [],
   "metadata": {}
  },
  {
   "cell_type": "code",
   "execution_count": 33,
   "source": [
    "df = pd.read_csv(r'C:\\Users\\Professional\\Desktop\\Kaggle competitions\\30-days-of-ml\\data\\train_folds.csv')\r\n",
    "df_test = pd.read_csv(r'C:\\Users\\Professional\\Desktop\\Kaggle competitions\\30-days-of-ml\\data\\test.csv')\r\n",
    "sample_submission = pd.read_csv(r'C:\\Users\\Professional\\Desktop\\Kaggle competitions\\30-days-of-ml\\data\\sample_submission.csv')"
   ],
   "outputs": [],
   "metadata": {}
  },
  {
   "cell_type": "code",
   "execution_count": 34,
   "source": [
    "useful_features = [c for c in df.columns if c not in (\"id\", \"target\", \"kfold\")]\r\n",
    "object_cols = [col for col in useful_features if col.startswith(\"cat\")]\r\n",
    "df_test = df_test[useful_features]"
   ],
   "outputs": [],
   "metadata": {}
  },
  {
   "cell_type": "code",
   "execution_count": 36,
   "source": [
    "final_predictions = []\r\n",
    "scores = []\r\n",
    "for fold in range(5):\r\n",
    "    xtrain =  df[df.kfold != fold].reset_index(drop=True)\r\n",
    "    xvalid = df[df.kfold == fold].reset_index(drop=True)\r\n",
    "    xtest = df_test.copy()\r\n",
    "\r\n",
    "    ytrain = xtrain.target\r\n",
    "    yvalid = xvalid.target\r\n",
    "    \r\n",
    "    xtrain = xtrain[useful_features]\r\n",
    "    xvalid = xvalid[useful_features]\r\n",
    "    \r\n",
    "    ordinal_encoder = preprocessing.OrdinalEncoder()\r\n",
    "    xtrain[object_cols] = ordinal_encoder.fit_transform(xtrain[object_cols])\r\n",
    "    xvalid[object_cols] = ordinal_encoder.transform(xvalid[object_cols])\r\n",
    "    xtest[object_cols] = ordinal_encoder.transform(xtest[object_cols])\r\n",
    "    \r\n",
    "    params = {'learning_rate': 0.020724578804648803,\r\n",
    " 'reg_lambda': 6.794234536729048e-05,\r\n",
    " 'reg_alpha': 39.3317897605401,\r\n",
    " 'subsample': 0.2817675275106523,\r\n",
    " 'colsample_bytree': 0.4572411228170934,\r\n",
    " 'max_depth': 4}\r\n",
    "    \r\n",
    "    model = XGBRegressor(\r\n",
    "        random_state=0, \r\n",
    "        #tree_method='gpu_hist',\r\n",
    "        #gpu_id=0,\r\n",
    "        #predictor=\"gpu_predictor\",\r\n",
    "        n_estimators=6000,\r\n",
    "        n_jobs = 6,\r\n",
    "        **params\r\n",
    "    )\r\n",
    "    model.fit(xtrain, ytrain, early_stopping_rounds=300, eval_set=[(xvalid, yvalid)], verbose=1000)\r\n",
    "    preds_valid = model.predict(xvalid)\r\n",
    "    test_preds = model.predict(xtest)\r\n",
    "    final_predictions.append(test_preds)\r\n",
    "    rmse = mean_squared_error(yvalid, preds_valid, squared=False)\r\n",
    "    print(fold, rmse)\r\n",
    "    scores.append(rmse)\r\n",
    "\r\n",
    "print(np.mean(scores), np.std(scores))"
   ],
   "outputs": [
    {
     "output_type": "stream",
     "name": "stdout",
     "text": [
      "[0]\tvalidation_0-rmse:7.62020\n",
      "[1000]\tvalidation_0-rmse:0.72430\n",
      "[2000]\tvalidation_0-rmse:0.72052\n",
      "[3000]\tvalidation_0-rmse:0.71915\n",
      "[4000]\tvalidation_0-rmse:0.71844\n",
      "[5000]\tvalidation_0-rmse:0.71811\n",
      "[5999]\tvalidation_0-rmse:0.71788\n",
      "0 0.7178746913977467\n",
      "[0]\tvalidation_0-rmse:7.61691\n",
      "[1000]\tvalidation_0-rmse:0.72373\n",
      "[2000]\tvalidation_0-rmse:0.71994\n",
      "[3000]\tvalidation_0-rmse:0.71864\n",
      "[4000]\tvalidation_0-rmse:0.71803\n",
      "[5000]\tvalidation_0-rmse:0.71777\n",
      "[5730]\tvalidation_0-rmse:0.71770\n",
      "1 0.717688930711451\n",
      "[0]\tvalidation_0-rmse:7.61459\n",
      "[1000]\tvalidation_0-rmse:0.72549\n",
      "[2000]\tvalidation_0-rmse:0.72181\n",
      "[3000]\tvalidation_0-rmse:0.72052\n",
      "[4000]\tvalidation_0-rmse:0.72008\n",
      "[5000]\tvalidation_0-rmse:0.71987\n",
      "[5999]\tvalidation_0-rmse:0.71970\n",
      "2 0.7196892025167398\n",
      "[0]\tvalidation_0-rmse:7.61698\n",
      "[1000]\tvalidation_0-rmse:0.72533\n",
      "[2000]\tvalidation_0-rmse:0.72171\n",
      "[3000]\tvalidation_0-rmse:0.72047\n",
      "[4000]\tvalidation_0-rmse:0.71992\n",
      "[5000]\tvalidation_0-rmse:0.71964\n",
      "[5999]\tvalidation_0-rmse:0.71943\n",
      "3 0.7194236419292745\n",
      "[0]\tvalidation_0-rmse:7.62238\n",
      "[1000]\tvalidation_0-rmse:0.72472\n",
      "[2000]\tvalidation_0-rmse:0.72065\n",
      "[3000]\tvalidation_0-rmse:0.71921\n",
      "[4000]\tvalidation_0-rmse:0.71851\n",
      "[5000]\tvalidation_0-rmse:0.71819\n",
      "[5999]\tvalidation_0-rmse:0.71808\n",
      "4 0.7180696616274042\n",
      "0.7185492256365232 0.0008353725607998541\n"
     ]
    }
   ],
   "metadata": {}
  },
  {
   "cell_type": "code",
   "execution_count": 37,
   "source": [
    "preds = np.mean(np.column_stack(final_predictions), axis=1)\r\n",
    "sample_submission.target = preds\r\n",
    "sample_submission.to_csv(\"sub_final.csv\", index=False)"
   ],
   "outputs": [],
   "metadata": {}
  },
  {
   "cell_type": "code",
   "execution_count": 38,
   "source": [
    "max(preds)"
   ],
   "outputs": [
    {
     "output_type": "execute_result",
     "data": {
      "text/plain": [
       "9.042635"
      ]
     },
     "metadata": {},
     "execution_count": 38
    }
   ],
   "metadata": {}
  }
 ],
 "metadata": {
  "orig_nbformat": 4,
  "language_info": {
   "name": "python",
   "version": "3.7.8",
   "mimetype": "text/x-python",
   "codemirror_mode": {
    "name": "ipython",
    "version": 3
   },
   "pygments_lexer": "ipython3",
   "nbconvert_exporter": "python",
   "file_extension": ".py"
  },
  "kernelspec": {
   "name": "python3",
   "display_name": "Python 3.7.8 64-bit"
  },
  "interpreter": {
   "hash": "57baa5815c940fdaff4d14510622de9616cae602444507ba5d0b6727c008cbd6"
  }
 },
 "nbformat": 4,
 "nbformat_minor": 2
}