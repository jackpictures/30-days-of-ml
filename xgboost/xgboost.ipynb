{
 "cells": [
  {
   "cell_type": "code",
   "execution_count": 2,
   "source": [
    "import numpy as np\r\n",
    "import pandas as pd\r\n",
    "from sklearn.model_selection import KFold\r\n",
    "from sklearn.metrics import mean_squared_error\r\n",
    "from sklearn.preprocessing import OrdinalEncoder\r\n",
    "from xgboost import XGBRegressor\r\n",
    "import warnings\r\n",
    "warnings.filterwarnings('ignore')"
   ],
   "outputs": [],
   "metadata": {}
  },
  {
   "cell_type": "code",
   "execution_count": 3,
   "source": [
    "train = pd.read_csv(r'C:\\Users\\Professional\\Desktop\\Kaggle competitions\\30-days-of-ml\\data\\train.csv')\r\n",
    "test = pd.read_csv(r'C:\\Users\\Professional\\Desktop\\Kaggle competitions\\30-days-of-ml\\data\\test.csv')\r\n",
    "sample=pd.read_csv(r'C:\\Users\\Professional\\Desktop\\Kaggle competitions\\30-days-of-ml\\data\\sample_submission.csv')"
   ],
   "outputs": [],
   "metadata": {}
  },
  {
   "cell_type": "code",
   "execution_count": 4,
   "source": [
    "object_col=[col for col in train.columns if 'cat' in col]"
   ],
   "outputs": [],
   "metadata": {}
  },
  {
   "cell_type": "code",
   "execution_count": 6,
   "source": [
    "xgb_params = {\r\n",
    "    #'tree_method':'gpu_hist',         ## parameters for gpu\r\n",
    "    #'gpu_id':0,                       #\r\n",
    "    #'predictor':'gpu_predictor',      #\r\n",
    "    'n_estimators': 10000,\r\n",
    "    'learning_rate': 0.03628302216953097,\r\n",
    "    'subsample': 0.7875490025178415,\r\n",
    "    'colsample_bytree': 0.11807135201147481,\r\n",
    "    'max_depth': 3,\r\n",
    "    'booster': 'gbtree', \r\n",
    "    'reg_lambda': 0.0008746338866473539,\r\n",
    "    'reg_alpha': 23.13181079976304,\r\n",
    "    'n_jobs':-1,\r\n",
    "    'random_state':40\r\n",
    "}"
   ],
   "outputs": [],
   "metadata": {}
  },
  {
   "cell_type": "code",
   "execution_count": 8,
   "source": [
    "model=XGBRegressor(**xgb_params)\r\n",
    "i=0\r\n",
    "sub=[]\r\n",
    "kf=KFold(n_splits=10,shuffle=True,random_state=42)\r\n",
    "for train_index,test_index in kf.split(train):\r\n",
    "    i+=1\r\n",
    "    xtrain=train.iloc[train_index]\r\n",
    "    xvalid=train.iloc[test_index]\r\n",
    "    \r\n",
    "    df_test=test.copy()\r\n",
    "    \r\n",
    "    encoder=OrdinalEncoder()\r\n",
    "    \r\n",
    "    xtrain[object_col]=encoder.fit_transform(xtrain[object_col])\r\n",
    "    xvalid[object_col]=encoder.transform(xvalid[object_col])\r\n",
    "    df_test[object_col]=encoder.transform(df_test[object_col])\r\n",
    "    \r\n",
    "    model.fit(xtrain.drop('target',axis=1),xtrain['target'],\r\n",
    "            early_stopping_rounds=300,\r\n",
    "            eval_set=[(xvalid.drop('target',axis=1), xvalid['target'])], \r\n",
    "            verbose=2000)\r\n",
    "    \r\n",
    "    pred_valid=model.predict(xvalid.drop('target',axis=1))\r\n",
    "    pred_train=model.predict(xtrain.drop('target',axis=1))\r\n",
    "    print(f'fold {i} validation error ',mean_squared_error(xvalid['target'],pred_valid,squared=False))\r\n",
    "    print(f'fold {i} training error ',mean_squared_error(xtrain['target'],pred_train,squared=False))\r\n",
    "    print(\"--------------------\")\r\n",
    "    \r\n",
    "    pred=model.predict(df_test)\r\n",
    "    sub.append(pred)"
   ],
   "outputs": [
    {
     "output_type": "stream",
     "name": "stdout",
     "text": [
      "[0]\tvalidation_0-rmse:7.50941\n",
      "[2000]\tvalidation_0-rmse:0.71929\n",
      "[4000]\tvalidation_0-rmse:0.71666\n",
      "[6000]\tvalidation_0-rmse:0.71600\n",
      "[7666]\tvalidation_0-rmse:0.71588\n",
      "fold 1 validation error  0.7158716239908846\n",
      "fold 1 training error  0.7064129061666355\n",
      "--------------------\n",
      "[0]\tvalidation_0-rmse:7.49111\n",
      "[2000]\tvalidation_0-rmse:0.71909\n",
      "[4000]\tvalidation_0-rmse:0.71634\n",
      "[6000]\tvalidation_0-rmse:0.71563\n",
      "[7870]\tvalidation_0-rmse:0.71546\n",
      "fold 2 validation error  0.7154524993216206\n",
      "fold 2 training error  0.7061455927211416\n",
      "--------------------\n",
      "[0]\tvalidation_0-rmse:7.49705\n",
      "[2000]\tvalidation_0-rmse:0.71736\n",
      "[4000]\tvalidation_0-rmse:0.71521\n",
      "[6000]\tvalidation_0-rmse:0.71475\n",
      "[6481]\tvalidation_0-rmse:0.71474\n",
      "fold 3 validation error  0.7147371228358378\n",
      "fold 3 training error  0.7077744507041918\n",
      "--------------------\n",
      "[0]\tvalidation_0-rmse:7.49705\n",
      "[2000]\tvalidation_0-rmse:0.72050\n",
      "[4000]\tvalidation_0-rmse:0.71786\n",
      "[6000]\tvalidation_0-rmse:0.71710\n",
      "[7985]\tvalidation_0-rmse:0.71685\n",
      "fold 4 validation error  0.7168373967284488\n",
      "fold 4 training error  0.7059141098993049\n",
      "--------------------\n",
      "[0]\tvalidation_0-rmse:7.49136\n",
      "[2000]\tvalidation_0-rmse:0.72468\n",
      "[4000]\tvalidation_0-rmse:0.72194\n",
      "[6000]\tvalidation_0-rmse:0.72120\n",
      "[8000]\tvalidation_0-rmse:0.72097\n",
      "[8387]\tvalidation_0-rmse:0.72098\n",
      "fold 5 validation error  0.7209630775096803\n",
      "fold 5 training error  0.7050253117659242\n",
      "--------------------\n",
      "[0]\tvalidation_0-rmse:7.49837\n",
      "[2000]\tvalidation_0-rmse:0.71688\n",
      "[4000]\tvalidation_0-rmse:0.71462\n",
      "[6000]\tvalidation_0-rmse:0.71410\n",
      "[6527]\tvalidation_0-rmse:0.71407\n",
      "fold 6 validation error  0.7140556359817984\n",
      "fold 6 training error  0.7078347875130545\n",
      "--------------------\n",
      "[0]\tvalidation_0-rmse:7.49920\n",
      "[2000]\tvalidation_0-rmse:0.72009\n",
      "[4000]\tvalidation_0-rmse:0.71753\n",
      "[6000]\tvalidation_0-rmse:0.71682\n",
      "[8000]\tvalidation_0-rmse:0.71667\n",
      "[8544]\tvalidation_0-rmse:0.71667\n",
      "fold 7 validation error  0.7166479400811766\n",
      "fold 7 training error  0.705398613559809\n",
      "--------------------\n",
      "[0]\tvalidation_0-rmse:7.49487\n",
      "[2000]\tvalidation_0-rmse:0.72108\n",
      "[4000]\tvalidation_0-rmse:0.71860\n",
      "[6000]\tvalidation_0-rmse:0.71807\n",
      "[7015]\tvalidation_0-rmse:0.71799\n",
      "fold 8 validation error  0.717972174779698\n",
      "fold 8 training error  0.7068307537349634\n",
      "--------------------\n",
      "[0]\tvalidation_0-rmse:7.50014\n",
      "[2000]\tvalidation_0-rmse:0.72261\n",
      "[4000]\tvalidation_0-rmse:0.71998\n",
      "[6000]\tvalidation_0-rmse:0.71928\n",
      "[8000]\tvalidation_0-rmse:0.71910\n",
      "[8422]\tvalidation_0-rmse:0.71911\n",
      "fold 9 validation error  0.7190822042254491\n",
      "fold 9 training error  0.7052075984296956\n",
      "--------------------\n",
      "[0]\tvalidation_0-rmse:7.50486\n",
      "[2000]\tvalidation_0-rmse:0.71613\n",
      "[4000]\tvalidation_0-rmse:0.71320\n",
      "[6000]\tvalidation_0-rmse:0.71240\n",
      "[8000]\tvalidation_0-rmse:0.71209\n",
      "[9265]\tvalidation_0-rmse:0.71201\n",
      "fold 10 validation error  0.7119984359464891\n",
      "fold 10 training error  0.7052138495800618\n",
      "--------------------\n"
     ]
    }
   ],
   "metadata": {}
  },
  {
   "cell_type": "code",
   "execution_count": null,
   "source": [
    "predictions=np.mean(np.column_stack(sub),axis=1)\r\n",
    "sample['target']=predictions\r\n",
    "\r\n",
    "sample.to_csv('sub.csv',index=False)\r\n",
    "\r\n"
   ],
   "outputs": [],
   "metadata": {}
  }
 ],
 "metadata": {
  "orig_nbformat": 4,
  "language_info": {
   "name": "python",
   "version": "3.7.8",
   "mimetype": "text/x-python",
   "codemirror_mode": {
    "name": "ipython",
    "version": 3
   },
   "pygments_lexer": "ipython3",
   "nbconvert_exporter": "python",
   "file_extension": ".py"
  },
  "kernelspec": {
   "name": "python3",
   "display_name": "Python 3.7.8 64-bit"
  },
  "interpreter": {
   "hash": "57baa5815c940fdaff4d14510622de9616cae602444507ba5d0b6727c008cbd6"
  }
 },
 "nbformat": 4,
 "nbformat_minor": 2
}